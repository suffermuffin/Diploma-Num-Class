{
  "nbformat": 4,
  "nbformat_minor": 0,
  "metadata": {
    "colab": {
      "provenance": []
    },
    "kernelspec": {
      "name": "python3",
      "display_name": "Python 3"
    },
    "language_info": {
      "name": "python"
    }
  },
  "cells": [
    {
      "cell_type": "code",
      "execution_count": null,
      "metadata": {
        "id": "TpxXUHy38NF-"
      },
      "outputs": [],
      "source": [
        "#позволяет загружать модели\n",
        "from tensorflow.keras.models import load_model\n",
        "\n",
        "from google.colab import files\n",
        "import matplotlib.pyplot as plt\n",
        "import numpy as np\n",
        "from PIL import Image\n",
        "import cv2"
      ]
    },
    {
      "cell_type": "code",
      "source": [
        "#подключает облачный диск Google Drive\n",
        "#drive.mount('/content/gdrive')"
      ],
      "metadata": {
        "id": "9SpMnGGlVvLZ"
      },
      "execution_count": null,
      "outputs": []
    },
    {
      "cell_type": "code",
      "source": [
        "#загружает готовую модель ИНС\n",
        "model = load_model('/content/drive/MyDrive/Colab Notebooks/my_model_Both_v3.h5')"
      ],
      "metadata": {
        "id": "KANzvAXo8_cS"
      },
      "execution_count": null,
      "outputs": []
    },
    {
      "cell_type": "code",
      "source": [
        "#открывает изображение в указаной директории\n",
        "img = Image.open ('/content/drive/MyDrive/Colab Notebooks/custom_dataset/Test101/Rdy/6.png')\n",
        "\n",
        "#выводит изображение на экран\n",
        "plt.imshow(img)\n",
        "plt.show()\n",
        "\n",
        "#нормализация и форматирование изображения\n",
        "img = np.array(img) / 255.0\n",
        "img = img.reshape(1, 28, 28, 1)"
      ],
      "metadata": {
        "colab": {
          "base_uri": "https://localhost:8080/",
          "height": 430
        },
        "id": "k0JWJIps815y",
        "outputId": "d1e0ade5-683b-49f8-aaa9-a97656123a57"
      },
      "execution_count": null,
      "outputs": [
        {
          "output_type": "display_data",
          "data": {
            "text/plain": [
              "<Figure size 640x480 with 1 Axes>"
            ],
            "image/png": "[encoded data removed]"
          },
          "metadata": {}
        }
      ]
    },
    {
      "cell_type": "code",
      "source": [
        "#выводит предсказанную цифру и указывет вероятность указаной цифры\n",
        "prediction = model.predict(img)\n",
        "print(\"Ответ:\", np.argmax(prediction))\n",
        "print(\"С веротяностью: {}%\".format(round(np.max(prediction)*100, 2)))"
      ],
      "metadata": {
        "colab": {
          "base_uri": "https://localhost:8080/"
        },
        "id": "rXFB0ub69yAo",
        "outputId": "001d722a-fcd7-4e57-961f-2f5bf199a8e6"
      },
      "execution_count": null,
      "outputs": [
        {
          "output_type": "stream",
          "name": "stdout",
          "text": [
            "1/1 [==============================] - 0s 275ms/step\n",
            "Ответ: 6\n",
            "С веротяностью: 81.95%\n"
          ]
        }
      ]
    },
    {
      "cell_type": "code",
      "source": [
        "#выводит вероятность кажого класса для данного изображения\n",
        "for value in prediction:\n",
        "  for index, i in enumerate(value):\n",
        "    print(\"Класс:\", index)\n",
        "    print(\"Вероятность: {}%\".format(np.round(i*100, 2)))\n",
        "    print(\"-------------------\")"
      ],
      "metadata": {
        "colab": {
          "base_uri": "https://localhost:8080/"
        },
        "id": "rzNzOCaOIACA",
        "outputId": "b42ce10b-ec9e-47ca-eb4f-8689adc16d0e"
      },
      "execution_count": null,
      "outputs": [
        {
          "output_type": "stream",
          "name": "stdout",
          "text": [
            "Класс: 0\n",
            "Вероятность: 5.54%\n",
            "-------------------\n",
            "Класс: 1\n",
            "Вероятность: 0.31%\n",
            "-------------------\n",
            "Класс: 2\n",
            "Вероятность: 0.15%\n",
            "-------------------\n",
            "Класс: 3\n",
            "Вероятность: 2.41%\n",
            "-------------------\n",
            "Класс: 4\n",
            "Вероятность: 0.45%\n",
            "-------------------\n",
            "Класс: 5\n",
            "Вероятность: 5.47%\n",
            "-------------------\n",
            "Класс: 6\n",
            "Вероятность: 81.95%\n",
            "-------------------\n",
            "Класс: 7\n",
            "Вероятность: 1.19%\n",
            "-------------------\n",
            "Класс: 8\n",
            "Вероятность: 0.01%\n",
            "-------------------\n",
            "Класс: 9\n",
            "Вероятность: 2.54%\n",
            "-------------------\n"
          ]
        }
      ]
    }
  ]
}