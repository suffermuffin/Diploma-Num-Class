{
  "nbformat": 4,
  "nbformat_minor": 0,
  "metadata": {
    "colab": {
      "provenance": []
    },
    "kernelspec": {
      "name": "python3",
      "display_name": "Python 3"
    },
    "language_info": {
      "name": "python"
    }
  },
  "cells": [
    {
      "cell_type": "code",
      "execution_count": null,
      "metadata": {
        "id": "PuQThyOI29Jf"
      },
      "outputs": [],
      "source": [
        "#используется для работы с массивами\n",
        "import numpy as np\n",
        "\n",
        "#библиотека для визуализации данных\n",
        "import matplotlib.pyplot as plt\n",
        "\n",
        "#команда, позваляющая выводить изображения прямо в блокнот\n",
        "%matplotlib inline\n",
        "\n",
        "#фреймворк для работы и обучения ИНС\n",
        "import tensorflow as tf\n",
        "\n",
        "#API для создания и обучения нейронных сетей с использованием фреймворка Keras\n",
        "from tensorflow import keras\n",
        "\n",
        "#содержит наборы данных для практического использования в обучении моделей\n",
        "from tensorflow.keras.datasets import mnist\n",
        "\n",
        "#представляет собой последовательную модель нейронной сети\n",
        "from tensorflow.keras.models import Sequential\n",
        "\n",
        "#Dense представляет собой полносвязный слой нейронной сети\n",
        "from tensorflow.keras.layers import Dense\n",
        "\n",
        "#######################################\n",
        "### библиотеки для работы с данными ###\n",
        "#######################################\n",
        "\n",
        "#библиотека алгоритмов компьютерного зрения и обработки изображений.\n",
        "import cv2\n",
        "\n",
        "#основной класс для работы с изображениями\n",
        "from PIL import Image\n",
        "\n",
        "#модуль, позволяющий конвертацию изображения в градации серого\n",
        "from PIL import ImageOps\n",
        "\n",
        "# модуль, содержащий классы для улучшения изображений\n",
        "from PIL import ImageEnhance\n",
        "\n",
        "#модуль, предоставляющий методы для загрузки и скачивания файлов\n",
        "from google.colab import files\n",
        "\n",
        "#модуль, предоставляющий методы для подключения к Google Drive\n",
        "from google.colab import drive\n",
        "\n",
        "#позволяет считывать названия файлов по шаблонам\n",
        "import glob\n",
        "\n",
        "#позволяет выполнять различные операции, такие как управление файлами и директориями\n",
        "import os\n",
        "\n",
        "#позволяет загружать модели\n",
        "from tensorflow.keras.models import load_model"
      ]
    },
    {
      "cell_type": "code",
      "source": [
        "#метод добавления шума \"соль - перец\"\n",
        "def salt_pepper_noise(image, salt_prob, pepper_prob):\n",
        "    # Получает размеры изображения\n",
        "    row, col = image.shape\n",
        "    # Создает копию изображения\n",
        "    noisy = image.copy()\n",
        "    # Применяет шум \"соль\"\n",
        "    num_salt = np.ceil(salt_prob * image.size)\n",
        "    coords = [np.random.randint(0, i - 1, int(num_salt)) for i in image.shape]\n",
        "    noisy[coords] = 1\n",
        "    # Применяет шум \"перец\"\n",
        "    num_pepper = np.ceil(pepper_prob * image.size)\n",
        "    coords = [np.random.randint(0, i - 1, int(num_pepper)) for i in image.shape]\n",
        "    noisy[coords] = 0\n",
        "    return noisy"
      ],
      "metadata": {
        "id": "MzBLzEqpPJSb"
      },
      "execution_count": null,
      "outputs": []
    },
    {
      "cell_type": "code",
      "source": [
        "#метод добавления Гауссовского шума\n",
        "def add_gaussian_noise(image):\n",
        "    #получает размеры изображения\n",
        "    row, col = image.shape\n",
        "    #коэффициент среднего значения распределения\n",
        "    mean = 0.1\n",
        "    #коэффициент дисперсии распределения, который определяет степень разброса значений\n",
        "    var = 0.2\n",
        "    #стандартное отклонение распределения\n",
        "    sigma = var ** 0.5\n",
        "    #применение шума к изображению\n",
        "    gauss = np.random.normal(mean, sigma, (row, col))\n",
        "    noisy = np.zeros(image.shape, np.float32)\n",
        "    noisy = image + gauss\n",
        "    return noisy"
      ],
      "metadata": {
        "id": "v6YsqDnKU_ua"
      },
      "execution_count": null,
      "outputs": []
    },
    {
      "cell_type": "code",
      "source": [
        "#загрузка изображений из БД MNIST\n",
        "(x_train, y_train), (x_test, y_test) = mnist.load_data()\n",
        "#добавление названий классов\n",
        "class_names = ['0', '1', '2', '3', '4', '5', '6', '7', '8', '9']"
      ],
      "metadata": {
        "id": "UyPNPVM2qNF0",
        "colab": {
          "base_uri": "https://localhost:8080/"
        },
        "outputId": "c303cdd2-7baf-47fa-d486-2bb76a1f0a7d"
      },
      "execution_count": null,
      "outputs": [
        {
          "output_type": "stream",
          "name": "stdout",
          "text": [
            "Downloading data from https://storage.googleapis.com/tensorflow/tf-keras-datasets/mnist.npz\n",
            "11490434/11490434 [==============================] - 0s 0us/step\n"
          ]
        }
      ]
    },
    {
      "cell_type": "code",
      "source": [
        "#применение метода \"соль - перец\" для изображений из БД\n",
        "salt_prob = 0.04\n",
        "pepper_prob = 0.02\n",
        "\n",
        "x_train_noisy = np.array([salt_pepper_noise(x, salt_prob, pepper_prob) for x in x_train])\n",
        "x_test_noisy = np.array([salt_pepper_noise(x, salt_prob, pepper_prob) for x in x_test])\n",
        "\n",
        "#применение метода добавления Гауссовского шума для изображений из БД\n",
        "x_train_noisy = np.array([add_gaussian_noise(x) for x in x_train_noisy])\n",
        "x_test_noisy = np.array([add_gaussian_noise(x) for x in x_test_noisy])\n",
        "\n",
        "x_train_noisy = x_train_noisy / 255\n",
        "x_test_noisy = x_test_noisy / 255"
      ],
      "metadata": {
        "colab": {
          "base_uri": "https://localhost:8080/"
        },
        "id": "Ee2W16PvQMqy",
        "outputId": "fbce522e-aaab-4f4a-c350-a0f8379d86f1"
      },
      "execution_count": null,
      "outputs": [
        {
          "output_type": "stream",
          "name": "stderr",
          "text": [
            "<ipython-input-2-5108defec7ef>:10: FutureWarning: Using a non-tuple sequence for multidimensional indexing is deprecated; use `arr[tuple(seq)]` instead of `arr[seq]`. In the future this will be interpreted as an array index, `arr[np.array(seq)]`, which will result either in an error or a different result.\n",
            "  noisy[coords] = 1\n",
            "<ipython-input-2-5108defec7ef>:14: FutureWarning: Using a non-tuple sequence for multidimensional indexing is deprecated; use `arr[tuple(seq)]` instead of `arr[seq]`. In the future this will be interpreted as an array index, `arr[np.array(seq)]`, which will result either in an error or a different result.\n",
            "  noisy[coords] = 0\n"
          ]
        }
      ]
    },
    {
      "cell_type": "markdown",
      "source": [
        "Нормализация данных"
      ],
      "metadata": {
        "id": "zI0p7eyqseFT"
      }
    },
    {
      "cell_type": "code",
      "source": [
        "#изменение значений серого в пределы от 0 до 1\n",
        "x_train = x_train / 255\n",
        "x_test = x_test / 255"
      ],
      "metadata": {
        "id": "Tx4bDTaFsOyo"
      },
      "execution_count": null,
      "outputs": []
    },
    {
      "cell_type": "markdown",
      "source": [
        "Вывод изображений обучающего набора"
      ],
      "metadata": {
        "id": "Z_c0YXTi4A_h"
      }
    },
    {
      "cell_type": "code",
      "source": [
        "#визуализация изображений из БД\n",
        "plt.figure(figsize=(10,10))\n",
        "for i in range (25):\n",
        "  plt.subplot(5,5, i +1)\n",
        "  plt.xticks([])\n",
        "  plt.yticks([])\n",
        "  plt.imshow(x_train[i], cmap=plt.cm.binary)\n",
        "  plt.xlabel(class_names[y_train[i]])"
      ],
      "metadata": {
        "colab": {
          "base_uri": "https://localhost:8080/",
          "height": 766
        },
        "id": "e9IHcXHBs32_",
        "outputId": "3dcb2894-16b0-4892-f0e2-27045f7eac9c"
      },
      "execution_count": null,
      "outputs": [
        {
          "output_type": "display_data",
          "data": {
            "text/plain": [
              "<Figure size 1000x1000 with 25 Axes>"
            ],
            "image/png": "[encoded data removed]"
          },
          "metadata": {}
        }
      ]
    },
    {
      "cell_type": "code",
      "source": [
        "#визуализация изображений из БД с добавленным шумом\n",
        "plt.figure(figsize=(10,10))\n",
        "for i in range (25):\n",
        "  plt.subplot(5,5, i +1)\n",
        "  plt.xticks([])\n",
        "  plt.yticks([])\n",
        "  plt.imshow(x_train_noisy[i], cmap=plt.cm.binary)\n",
        "  plt.xlabel(class_names[y_train[i]])"
      ],
      "metadata": {
        "colab": {
          "base_uri": "https://localhost:8080/",
          "height": 766
        },
        "id": "a_FVqUUoPx59",
        "outputId": "1e79d930-04fa-40da-e2a5-7f82b26f8c26"
      },
      "execution_count": null,
      "outputs": [
        {
          "output_type": "display_data",
          "data": {
            "text/plain": [
              "<Figure size 1000x1000 with 25 Axes>"
            ],
            "image/png": "[encoded data removed]"
          },
          "metadata": {}
        }
      ]
    },
    {
      "cell_type": "markdown",
      "source": [
        "Синтез ИНС"
      ],
      "metadata": {
        "id": "mPRvd0vo4I-U"
      }
    },
    {
      "cell_type": "code",
      "source": [
        "#вызов метода создания ИНС с заданнием кол-ва нейронов и слоев\n",
        "model = keras.Sequential ([\n",
        "                           keras.layers.Flatten (input_shape=(28,28)),\n",
        "                           keras.layers.Dense (256, activation=\"relu\"),\n",
        "                           keras.layers.Dense (128, activation=\"relu\"),\n",
        "                           keras.layers.Dense (10, activation=\"softmax\")\n",
        "                         ])"
      ],
      "metadata": {
        "id": "xeJvvRz2vscC"
      },
      "execution_count": null,
      "outputs": []
    },
    {
      "cell_type": "code",
      "source": [
        "#вызов метода обучения ИНС\n",
        "model.compile(optimizer=tf.keras.optimizers.SGD(),\n",
        "              loss='sparse_categorical_crossentropy',\n",
        "              metrics=['accuracy'])"
      ],
      "metadata": {
        "id": "pfsu0q8awiqH"
      },
      "execution_count": null,
      "outputs": []
    },
    {
      "cell_type": "markdown",
      "source": [
        "Параметры ИНС"
      ],
      "metadata": {
        "id": "0YSVfCwm4Sdo"
      }
    },
    {
      "cell_type": "code",
      "source": [
        "#визуализация параметров ИНС\n",
        "model.summary()"
      ],
      "metadata": {
        "colab": {
          "base_uri": "https://localhost:8080/"
        },
        "id": "h7K6uJyEzrkw",
        "outputId": "38d7df40-6b1b-4e22-a873-0c05c6a64354"
      },
      "execution_count": null,
      "outputs": [
        {
          "output_type": "stream",
          "name": "stdout",
          "text": [
            "Model: \"sequential\"\n",
            "_________________________________________________________________\n",
            " Layer (type)                Output Shape              Param #   \n",
            "=================================================================\n",
            " flatten (Flatten)           (None, 784)               0         \n",
            "                                                                 \n",
            " dense (Dense)               (None, 256)               200960    \n",
            "                                                                 \n",
            " dense_1 (Dense)             (None, 128)               32896     \n",
            "                                                                 \n",
            " dense_2 (Dense)             (None, 10)                1290      \n",
            "                                                                 \n",
            "=================================================================\n",
            "Total params: 235,146\n",
            "Trainable params: 235,146\n",
            "Non-trainable params: 0\n",
            "_________________________________________________________________\n"
          ]
        }
      ]
    },
    {
      "cell_type": "markdown",
      "source": [
        "Обучение ИНС по эпохам"
      ],
      "metadata": {
        "id": "hCj_83bS4XeA"
      }
    },
    {
      "cell_type": "code",
      "source": [
        "#вызов метода обучения ИНС по эпохам\n",
        "model.fit(x_train_noisy, y_train, epochs=15)"
      ],
      "metadata": {
        "colab": {
          "base_uri": "https://localhost:8080/"
        },
        "id": "a5bf9y03zynl",
        "outputId": "3e162f28-ee33-4e0b-8a59-b736b2b431fe"
      },
      "execution_count": null,
      "outputs": [
        {
          "output_type": "stream",
          "name": "stdout",
          "text": [
            "Epoch 1/15\n",
            "1875/1875 [==============================] - 10s 5ms/step - loss: 0.6417 - accuracy: 0.8321\n",
            "Epoch 2/15\n",
            "1875/1875 [==============================] - 8s 5ms/step - loss: 0.3015 - accuracy: 0.9129\n",
            "Epoch 3/15\n",
            "1875/1875 [==============================] - 10s 5ms/step - loss: 0.2476 - accuracy: 0.9285\n",
            "Epoch 4/15\n",
            "1875/1875 [==============================] - 8s 4ms/step - loss: 0.2120 - accuracy: 0.9393\n",
            "Epoch 5/15\n",
            "1875/1875 [==============================] - 9s 5ms/step - loss: 0.1853 - accuracy: 0.9470\n",
            "Epoch 6/15\n",
            "1875/1875 [==============================] - 9s 5ms/step - loss: 0.1641 - accuracy: 0.9531\n",
            "Epoch 7/15\n",
            "1875/1875 [==============================] - 9s 5ms/step - loss: 0.1468 - accuracy: 0.9582\n",
            "Epoch 8/15\n",
            "1875/1875 [==============================] - 10s 5ms/step - loss: 0.1327 - accuracy: 0.9620\n",
            "Epoch 9/15\n",
            "1875/1875 [==============================] - 10s 5ms/step - loss: 0.1203 - accuracy: 0.9663\n",
            "Epoch 10/15\n",
            "1875/1875 [==============================] - 9s 5ms/step - loss: 0.1099 - accuracy: 0.9689\n",
            "Epoch 11/15\n",
            "1875/1875 [==============================] - 10s 5ms/step - loss: 0.1009 - accuracy: 0.9715\n",
            "Epoch 12/15\n",
            "1875/1875 [==============================] - 8s 4ms/step - loss: 0.0928 - accuracy: 0.9740\n",
            "Epoch 13/15\n",
            "1875/1875 [==============================] - 10s 5ms/step - loss: 0.0862 - accuracy: 0.9761\n",
            "Epoch 14/15\n",
            "1875/1875 [==============================] - 9s 5ms/step - loss: 0.0796 - accuracy: 0.9777\n",
            "Epoch 15/15\n",
            "1875/1875 [==============================] - 8s 4ms/step - loss: 0.0743 - accuracy: 0.9794\n"
          ]
        },
        {
          "output_type": "execute_result",
          "data": {
            "text/plain": [
              "<keras.callbacks.History at 0x7f023da8d030>"
            ]
          },
          "metadata": {},
          "execution_count": 12
        }
      ]
    },
    {
      "cell_type": "markdown",
      "source": [
        "Проверка точности ИНС на тестовом наборе данных"
      ],
      "metadata": {
        "id": "HF4dE7mX4fPB"
      }
    },
    {
      "cell_type": "code",
      "source": [
        "#выводит значение точности модели в отношении к тестовому набору\n",
        "test_loss, test_acc = model.evaluate(x_test_noisy, y_test)\n",
        "print('Точность теста: ', test_acc)"
      ],
      "metadata": {
        "colab": {
          "base_uri": "https://localhost:8080/"
        },
        "id": "h0mmolZ61GqL",
        "outputId": "6ec5226e-b86c-4259-a239-e75f80266c96"
      },
      "execution_count": null,
      "outputs": [
        {
          "output_type": "stream",
          "name": "stdout",
          "text": [
            "313/313 [==============================] - 1s 2ms/step - loss: 0.1001 - accuracy: 0.9691\n",
            "Точность теста:  0.9690999984741211\n"
          ]
        }
      ]
    },
    {
      "cell_type": "code",
      "source": [
        "#подключает облачный диск Google Drive\n",
        "#drive.mount('/content/gdrive')\n",
        "\n",
        "#Сохраняет модель на облачном диске\n",
        "#model.save('/content/gdrive/MyDrive/Colab Notebooks/my_model_clean.h5')"
      ],
      "metadata": {
        "id": "ImJSVJr0drrK"
      },
      "execution_count": null,
      "outputs": []
    },
    {
      "cell_type": "code",
      "source": [
        "#загружает готовую модель ИНС\n",
        "model = load_model('/content/drive/MyDrive/Colab Notebooks/my_model_70per.h5')"
      ],
      "metadata": {
        "id": "kWvFCRz6s7OS"
      },
      "execution_count": null,
      "outputs": []
    },
    {
      "cell_type": "code",
      "source": [
        "#пример создания собственного набора тестовых данных\n",
        "\n",
        "#в этой матрице будут храниться массивы изображений\n",
        "image_list = []\n",
        "#в этом векторе будут храниться метки для каждого изображения\n",
        "label_list = []\n",
        "\n",
        "#цикл обработки и добавления в набор каждого изображения типа .png в обозначенной директории\n",
        "for filename in glob.glob('/content/drive/MyDrive/Colab Notebooks/custom_dataset/Rdy_Img/*.png'):\n",
        "\n",
        "    #добавление изображения в переменную im\n",
        "    im = Image.open(filename)\n",
        "    #конвертация изображения в оттенки серого\n",
        "    im = im.convert('L')\n",
        "    #увеличение контраста для снижения шумов\n",
        "    enhancer = ImageEnhance.Contrast(im)\n",
        "    im = enhancer.enhance(2)\n",
        "    #сохранение изображения и конвертация в массив\n",
        "    im.save ('/content/123.png')\n",
        "    im = cv2.imread('/content/123.png', 0)\n",
        "    #добавление медианного размытия для снижения шумов\n",
        "    im = cv2.medianBlur(im,1)\n",
        "    #сохранение изображения из массива\n",
        "    im = Image.fromarray(im)\n",
        "    #повторное увелечение контраста\n",
        "    enhancer = ImageEnhance.Contrast(im)\n",
        "    im = enhancer.enhance(8.2)\n",
        "    #изменение изображений в нужное разрешение с применением сглаживания\n",
        "    im = im.resize((28, 28), Image.ANTIALIAS)\n",
        "    enhancer = ImageEnhance.Contrast(im)\n",
        "    im = enhancer.enhance(2.6)\n",
        "    #инвертирует цвета (белый в чёрный и наоборот)\n",
        "    im = ImageOps.invert(im)\n",
        "    #нормализация\n",
        "    im = np.array(im) / 255.0\n",
        "\n",
        "    # получает имя файла\n",
        "    base = os.path.basename(filename)\n",
        "    # разделяет имя файла на имя и расширение и преобразуем имя в целое число\n",
        "    label = int(os.path.splitext(base)[0])\n",
        "    label_list.append(label)\n",
        "    image_list.append(im)\n",
        "\n",
        "\n",
        "X = np.array(image_list)\n",
        "Y = np.array(label_list)"
      ],
      "metadata": {
        "id": "pmWMS5UiQbO_"
      },
      "execution_count": null,
      "outputs": []
    },
    {
      "cell_type": "code",
      "source": [
        "#визуализация изображений из собственного набора\n",
        "plt.figure(figsize=(10,10))\n",
        "for i in range (10):\n",
        "  plt.subplot(5,5, i +1)\n",
        "  plt.xticks([])\n",
        "  plt.yticks([])\n",
        "  plt.imshow(X[i], cmap=plt.cm.binary)\n",
        "  plt.xlabel(class_names[Y[i]])"
      ],
      "metadata": {
        "colab": {
          "base_uri": "https://localhost:8080/",
          "height": 323
        },
        "id": "5i656WJiseR1",
        "outputId": "8df71e5c-1c6d-4f04-9b9e-b8faf7cd6a4a"
      },
      "execution_count": null,
      "outputs": [
        {
          "output_type": "display_data",
          "data": {
            "text/plain": [
              "<Figure size 1000x1000 with 10 Axes>"
            ],
            "image/png": "[encoded data removed]"
          },
          "metadata": {}
        }
      ]
    },
    {
      "cell_type": "code",
      "source": [
        "test_loss, test_acc = model.evaluate(X, Y)\n",
        "print('Точность теста: ', test_acc)"
      ],
      "metadata": {
        "colab": {
          "base_uri": "https://localhost:8080/"
        },
        "id": "GLDW68QOUiIg",
        "outputId": "af9e25df-473d-4378-c20b-d368e5b6c136"
      },
      "execution_count": null,
      "outputs": [
        {
          "output_type": "stream",
          "name": "stdout",
          "text": [
            "1/1 [==============================] - 0s 158ms/step - loss: 1.5277 - accuracy: 0.6000\n",
            "Точность теста:  0.6000000238418579\n"
          ]
        }
      ]
    },
    {
      "cell_type": "code",
      "source": [
        "# Предсказание вероятностей классов для тестового набора\n",
        "predictions = model.predict(X)\n",
        "\n",
        "# Печать вероятностей\n",
        "for i, prediction in enumerate(predictions):\n",
        "    print(f'Изображение {i+1}, метка класса: {Y[i]}')\n",
        "    print(\"Предсказание класса:\", np.argmax(prediction))  # выведет предсказанную цифру\n",
        "    print(\"С веротностью: {}%\".format(round(np.max(prediction)*100, 2)))\n",
        "    print('---------------------------------')"
      ],
      "metadata": {
        "colab": {
          "base_uri": "https://localhost:8080/"
        },
        "id": "2XYbmxkwLtTU",
        "outputId": "225dc674-6909-44fa-f2da-f548b90bd62f"
      },
      "execution_count": null,
      "outputs": [
        {
          "output_type": "stream",
          "name": "stdout",
          "text": [
            "1/1 [==============================] - 0s 66ms/step\n",
            "Изображение 1, метка класса: 0\n",
            "Предсказание класса: 0\n",
            "С веротностью: 64.86%\n",
            "---------------------------------\n",
            "Изображение 2, метка класса: 1\n",
            "Предсказание класса: 1\n",
            "С веротностью: 81.04%\n",
            "---------------------------------\n",
            "Изображение 3, метка класса: 3\n",
            "Предсказание класса: 2\n",
            "С веротностью: 74.66%\n",
            "---------------------------------\n",
            "Изображение 4, метка класса: 4\n",
            "Предсказание класса: 4\n",
            "С веротностью: 98.7%\n",
            "---------------------------------\n",
            "Изображение 5, метка класса: 5\n",
            "Предсказание класса: 5\n",
            "С веротностью: 92.16%\n",
            "---------------------------------\n",
            "Изображение 6, метка класса: 6\n",
            "Предсказание класса: 4\n",
            "С веротностью: 75.02%\n",
            "---------------------------------\n",
            "Изображение 7, метка класса: 7\n",
            "Предсказание класса: 7\n",
            "С веротностью: 49.62%\n",
            "---------------------------------\n",
            "Изображение 8, метка класса: 8\n",
            "Предсказание класса: 1\n",
            "С веротностью: 44.77%\n",
            "---------------------------------\n",
            "Изображение 9, метка класса: 9\n",
            "Предсказание класса: 1\n",
            "С веротностью: 65.1%\n",
            "---------------------------------\n",
            "Изображение 10, метка класса: 2\n",
            "Предсказание класса: 2\n",
            "С веротностью: 97.9%\n",
            "---------------------------------\n"
          ]
        }
      ]
    }
  ]
}